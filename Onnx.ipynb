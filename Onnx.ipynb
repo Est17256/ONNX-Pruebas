{
  "nbformat": 4,
  "nbformat_minor": 0,
  "metadata": {
    "colab": {
      "name": "Onnx.ipynb",
      "provenance": [],
      "collapsed_sections": [
        "Sd_BB9-054VJ",
        "pK2niPURoNxf",
        "qddUTMWeofDw"
      ],
      "toc_visible": true,
      "authorship_tag": "ABX9TyMzEVjBiX3uZottQi/O6M8D",
      "include_colab_link": true
    },
    "kernelspec": {
      "name": "python3",
      "display_name": "Python 3"
    }
  },
  "cells": [
    {
      "cell_type": "markdown",
      "metadata": {
        "id": "view-in-github",
        "colab_type": "text"
      },
      "source": [
        "<a href=\"https://colab.research.google.com/github/Est17256/ONNX-Pruebas/blob/main/Onnx.ipynb\" target=\"_parent\"><img src=\"https://colab.research.google.com/assets/colab-badge.svg\" alt=\"Open In Colab\"/></a>"
      ]
    },
    {
      "cell_type": "markdown",
      "metadata": {
        "id": "cZ3_0U3Z_PT3"
      },
      "source": [
        "## Configuracion inicial"
      ]
    },
    {
      "cell_type": "code",
      "metadata": {
        "id": "PwwZ-h3ykLAI"
      },
      "source": [
        "###############################Coneccion a Spark###############################\r\n",
        "!apt-get install openjdk-8-jdk-headless -qq > /dev/null\r\n",
        "!wget -q https://downloads.apache.org/spark/spark-3.0.2/spark-3.0.2-bin-hadoop2.7.tgz\r\n",
        "!tar xf spark-3.0.2-bin-hadoop2.7.tgz\r\n",
        "!pip install -q findspark\r\n",
        "import os\r\n",
        "os.environ[\"JAVA_HOME\"] = \"/usr/lib/jvm/java-8-openjdk-amd64\"\r\n",
        "os.environ[\"SPARK_HOME\"] = \"/content/spark-3.0.2-bin-hadoop2.7\"\r\n",
        "import findspark\r\n",
        "findspark.init()\r\n",
        "from pyspark.sql import SparkSession\r\n",
        "spark = SparkSession.builder.master(\"local[*]\").getOrCreate()\r\n",
        "###############################################################################"
      ],
      "execution_count": null,
      "outputs": []
    },
    {
      "cell_type": "code",
      "metadata": {
        "id": "KEpkqDfCz8FY",
        "colab": {
          "base_uri": "https://localhost:8080/"
        },
        "outputId": "82704316-17cc-476d-9e9b-3f6254bd5b1c"
      },
      "source": [
        "###############################Importacion de librerias externas###############################\r\n",
        "%pip install onnxmltools\r\n",
        "%pip install onnxruntime\r\n",
        "###############################################################################################"
      ],
      "execution_count": null,
      "outputs": [
        {
          "output_type": "stream",
          "text": [
            "Collecting onnxmltools\n",
            "\u001b[?25l  Downloading https://files.pythonhosted.org/packages/13/78/cb1c3573e76059a7319fc9e8e6ec0b0bec3b0784792810ef7e29e2f2bb39/onnxmltools-1.7.0-py2.py3-none-any.whl (252kB)\n",
            "\r\u001b[K     |█▎                              | 10kB 14.5MB/s eta 0:00:01\r\u001b[K     |██▋                             | 20kB 14.5MB/s eta 0:00:01\r\u001b[K     |████                            | 30kB 16.7MB/s eta 0:00:01\r\u001b[K     |█████▏                          | 40kB 12.7MB/s eta 0:00:01\r\u001b[K     |██████▌                         | 51kB 9.5MB/s eta 0:00:01\r\u001b[K     |███████▉                        | 61kB 9.0MB/s eta 0:00:01\r\u001b[K     |█████████                       | 71kB 8.1MB/s eta 0:00:01\r\u001b[K     |██████████▍                     | 81kB 8.6MB/s eta 0:00:01\r\u001b[K     |███████████▊                    | 92kB 9.2MB/s eta 0:00:01\r\u001b[K     |█████████████                   | 102kB 8.9MB/s eta 0:00:01\r\u001b[K     |██████████████▎                 | 112kB 8.9MB/s eta 0:00:01\r\u001b[K     |███████████████▋                | 122kB 8.9MB/s eta 0:00:01\r\u001b[K     |████████████████▉               | 133kB 8.9MB/s eta 0:00:01\r\u001b[K     |██████████████████▏             | 143kB 8.9MB/s eta 0:00:01\r\u001b[K     |███████████████████▌            | 153kB 8.9MB/s eta 0:00:01\r\u001b[K     |████████████████████▊           | 163kB 8.9MB/s eta 0:00:01\r\u001b[K     |██████████████████████          | 174kB 8.9MB/s eta 0:00:01\r\u001b[K     |███████████████████████▍        | 184kB 8.9MB/s eta 0:00:01\r\u001b[K     |████████████████████████▋       | 194kB 8.9MB/s eta 0:00:01\r\u001b[K     |██████████████████████████      | 204kB 8.9MB/s eta 0:00:01\r\u001b[K     |███████████████████████████▎    | 215kB 8.9MB/s eta 0:00:01\r\u001b[K     |████████████████████████████▋   | 225kB 8.9MB/s eta 0:00:01\r\u001b[K     |█████████████████████████████▉  | 235kB 8.9MB/s eta 0:00:01\r\u001b[K     |███████████████████████████████▏| 245kB 8.9MB/s eta 0:00:01\r\u001b[K     |████████████████████████████████| 256kB 8.9MB/s \n",
            "\u001b[?25hRequirement already satisfied: numpy in /usr/local/lib/python3.7/dist-packages (from onnxmltools) (1.19.5)\n",
            "Collecting keras2onnx\n",
            "\u001b[?25l  Downloading https://files.pythonhosted.org/packages/a6/2f/c7aef8f8215c62d55ea05f5b36737c1726e4fea6c73970909523ae497fd9/keras2onnx-1.7.0-py3-none-any.whl (96kB)\n",
            "\u001b[K     |████████████████████████████████| 102kB 7.3MB/s \n",
            "\u001b[?25hCollecting onnxconverter-common<1.8.0,>=1.7.0\n",
            "\u001b[?25l  Downloading https://files.pythonhosted.org/packages/fe/7a/7e30c643cd7d2ad87689188ef34ce93e657bd14da3605f87bcdbc19cd5b1/onnxconverter_common-1.7.0-py2.py3-none-any.whl (64kB)\n",
            "\u001b[K     |████████████████████████████████| 71kB 6.9MB/s \n",
            "\u001b[?25hCollecting onnx\n",
            "\u001b[?25l  Downloading https://files.pythonhosted.org/packages/38/57/65f48111f823df02da3e391b0b1aaadaf9972f8aa68ab3a41f46d59f57fe/onnx-1.8.1-cp37-cp37m-manylinux2010_x86_64.whl (14.5MB)\n",
            "\u001b[K     |████████████████████████████████| 14.5MB 328kB/s \n",
            "\u001b[?25hRequirement already satisfied: protobuf in /usr/local/lib/python3.7/dist-packages (from onnxmltools) (3.12.4)\n",
            "Collecting skl2onnx\n",
            "\u001b[?25l  Downloading https://files.pythonhosted.org/packages/2e/2e/efe7874c6b92ce4dd262b58a2860e9bf50097c68588114a542b29affca46/skl2onnx-1.8.0-py2.py3-none-any.whl (230kB)\n",
            "\u001b[K     |████████████████████████████████| 235kB 44.9MB/s \n",
            "\u001b[?25hRequirement already satisfied: requests in /usr/local/lib/python3.7/dist-packages (from keras2onnx->onnxmltools) (2.23.0)\n",
            "Collecting fire\n",
            "\u001b[?25l  Downloading https://files.pythonhosted.org/packages/11/07/a119a1aa04d37bc819940d95ed7e135a7dcca1c098123a3764a6dcace9e7/fire-0.4.0.tar.gz (87kB)\n",
            "\u001b[K     |████████████████████████████████| 92kB 8.6MB/s \n",
            "\u001b[?25hRequirement already satisfied: typing-extensions>=3.6.2.1 in /usr/local/lib/python3.7/dist-packages (from onnx->onnxmltools) (3.7.4.3)\n",
            "Requirement already satisfied: six in /usr/local/lib/python3.7/dist-packages (from onnx->onnxmltools) (1.15.0)\n",
            "Requirement already satisfied: setuptools in /usr/local/lib/python3.7/dist-packages (from protobuf->onnxmltools) (54.0.0)\n",
            "Requirement already satisfied: scipy>=1.0 in /usr/local/lib/python3.7/dist-packages (from skl2onnx->onnxmltools) (1.4.1)\n",
            "Requirement already satisfied: scikit-learn>=0.19 in /usr/local/lib/python3.7/dist-packages (from skl2onnx->onnxmltools) (0.22.2.post1)\n",
            "Requirement already satisfied: urllib3!=1.25.0,!=1.25.1,<1.26,>=1.21.1 in /usr/local/lib/python3.7/dist-packages (from requests->keras2onnx->onnxmltools) (1.24.3)\n",
            "Requirement already satisfied: chardet<4,>=3.0.2 in /usr/local/lib/python3.7/dist-packages (from requests->keras2onnx->onnxmltools) (3.0.4)\n",
            "Requirement already satisfied: idna<3,>=2.5 in /usr/local/lib/python3.7/dist-packages (from requests->keras2onnx->onnxmltools) (2.10)\n",
            "Requirement already satisfied: certifi>=2017.4.17 in /usr/local/lib/python3.7/dist-packages (from requests->keras2onnx->onnxmltools) (2020.12.5)\n",
            "Requirement already satisfied: termcolor in /usr/local/lib/python3.7/dist-packages (from fire->keras2onnx->onnxmltools) (1.1.0)\n",
            "Requirement already satisfied: joblib>=0.11 in /usr/local/lib/python3.7/dist-packages (from scikit-learn>=0.19->skl2onnx->onnxmltools) (1.0.1)\n",
            "Building wheels for collected packages: fire\n",
            "  Building wheel for fire (setup.py) ... \u001b[?25l\u001b[?25hdone\n",
            "  Created wheel for fire: filename=fire-0.4.0-py2.py3-none-any.whl size=115928 sha256=ded97373d9eb6154e4ef481f69800735304f56c95c40fe3a8f9b430d06aff8e9\n",
            "  Stored in directory: /root/.cache/pip/wheels/af/19/30/1ea0cad502dcb4e66ed5a690279628c827aea38bbbab75d5ed\n",
            "Successfully built fire\n",
            "Installing collected packages: onnx, onnxconverter-common, fire, keras2onnx, skl2onnx, onnxmltools\n",
            "Successfully installed fire-0.4.0 keras2onnx-1.7.0 onnx-1.8.1 onnxconverter-common-1.7.0 onnxmltools-1.7.0 skl2onnx-1.8.0\n",
            "Collecting onnxruntime\n",
            "\u001b[?25l  Downloading https://files.pythonhosted.org/packages/0c/f0/666d6e3ceaa276a54e728f9972732e058544cbb6a3e1a778a8d6f87132c1/onnxruntime-1.7.0-cp37-cp37m-manylinux2014_x86_64.whl (4.1MB)\n",
            "\u001b[K     |████████████████████████████████| 4.1MB 8.7MB/s \n",
            "\u001b[?25hRequirement already satisfied: numpy>=1.16.6 in /usr/local/lib/python3.7/dist-packages (from onnxruntime) (1.19.5)\n",
            "Requirement already satisfied: protobuf in /usr/local/lib/python3.7/dist-packages (from onnxruntime) (3.12.4)\n",
            "Requirement already satisfied: setuptools in /usr/local/lib/python3.7/dist-packages (from protobuf->onnxruntime) (54.0.0)\n",
            "Requirement already satisfied: six>=1.9 in /usr/local/lib/python3.7/dist-packages (from protobuf->onnxruntime) (1.15.0)\n",
            "Installing collected packages: onnxruntime\n",
            "Successfully installed onnxruntime-1.7.0\n"
          ],
          "name": "stdout"
        }
      ]
    },
    {
      "cell_type": "code",
      "metadata": {
        "id": "hYcZ8z9H0ACn"
      },
      "source": [
        "###############################Importacion de librerias###############################\r\n",
        "from pyspark.ml.feature import StringIndexer,VectorAssembler\r\n",
        "from pyspark.ml.classification import NaiveBayes, LogisticRegression, DecisionTreeClassifier\r\n",
        "from pyspark.ml import Pipeline\r\n",
        "from pyspark.ml.evaluation import MulticlassClassificationEvaluator\r\n",
        "from onnxmltools import convert_sparkml\r\n",
        "from onnxmltools.convert.sparkml.utils import buildInitialTypesSimple\r\n",
        "import numpy as np\r\n",
        "import onnxruntime \r\n",
        "######################################################################################"
      ],
      "execution_count": null,
      "outputs": []
    },
    {
      "cell_type": "markdown",
      "metadata": {
        "id": "Sd_BB9-054VJ"
      },
      "source": [
        "## Preparacion de Data"
      ]
    },
    {
      "cell_type": "markdown",
      "metadata": {
        "id": "XGWU-m4FkbK0"
      },
      "source": [
        "Se carga la data"
      ]
    },
    {
      "cell_type": "code",
      "metadata": {
        "colab": {
          "base_uri": "https://localhost:8080/"
        },
        "id": "TODDrrfA2rou",
        "outputId": "21649db9-ddca-439c-e3c5-dabb3f08d0dc"
      },
      "source": [
        "df =spark.read.csv(\"/content/iris.csv\",header=True,inferSchema=True)\r\n",
        "df.show()"
      ],
      "execution_count": null,
      "outputs": [
        {
          "output_type": "stream",
          "text": [
            "+------------+-----------+------------+-----------+-------+\n",
            "|sepal_length|sepal_width|petal_length|petal_width|species|\n",
            "+------------+-----------+------------+-----------+-------+\n",
            "|         5.1|        3.5|         1.4|        0.2| setosa|\n",
            "|         4.9|        3.0|         1.4|        0.2| setosa|\n",
            "|         4.7|        3.2|         1.3|        0.2| setosa|\n",
            "|         4.6|        3.1|         1.5|        0.2| setosa|\n",
            "|         5.0|        3.6|         1.4|        0.2| setosa|\n",
            "|         5.4|        3.9|         1.7|        0.4| setosa|\n",
            "|         4.6|        3.4|         1.4|        0.3| setosa|\n",
            "|         5.0|        3.4|         1.5|        0.2| setosa|\n",
            "|         4.4|        2.9|         1.4|        0.2| setosa|\n",
            "|         4.9|        3.1|         1.5|        0.1| setosa|\n",
            "|         5.4|        3.7|         1.5|        0.2| setosa|\n",
            "|         4.8|        3.4|         1.6|        0.2| setosa|\n",
            "|         4.8|        3.0|         1.4|        0.1| setosa|\n",
            "|         4.3|        3.0|         1.1|        0.1| setosa|\n",
            "|         5.8|        4.0|         1.2|        0.2| setosa|\n",
            "|         5.7|        4.4|         1.5|        0.4| setosa|\n",
            "|         5.4|        3.9|         1.3|        0.4| setosa|\n",
            "|         5.1|        3.5|         1.4|        0.3| setosa|\n",
            "|         5.7|        3.8|         1.7|        0.3| setosa|\n",
            "|         5.1|        3.8|         1.5|        0.3| setosa|\n",
            "+------------+-----------+------------+-----------+-------+\n",
            "only showing top 20 rows\n",
            "\n"
          ],
          "name": "stdout"
        }
      ]
    },
    {
      "cell_type": "code",
      "metadata": {
        "colab": {
          "base_uri": "https://localhost:8080/"
        },
        "id": "9Utx7MHA3Ym6",
        "outputId": "1712677f-8ff3-4540-eaea-2730cf5f8c92"
      },
      "source": [
        "df.printSchema()"
      ],
      "execution_count": null,
      "outputs": [
        {
          "output_type": "stream",
          "text": [
            "root\n",
            " |-- sepal_length: double (nullable = true)\n",
            " |-- sepal_width: double (nullable = true)\n",
            " |-- petal_length: double (nullable = true)\n",
            " |-- petal_width: double (nullable = true)\n",
            " |-- species: string (nullable = true)\n",
            "\n"
          ],
          "name": "stdout"
        }
      ]
    },
    {
      "cell_type": "markdown",
      "metadata": {
        "id": "E9R7CTVAkf6Q"
      },
      "source": [
        "Se realiza el string indexer de la variable a predecir"
      ]
    },
    {
      "cell_type": "code",
      "metadata": {
        "id": "TUAGeo2n3eus"
      },
      "source": [
        "labelIndexer = StringIndexer(inputCol=\"species\", outputCol=\"label\")\r\n",
        "trainingData2=labelIndexer.fit(df)\r\n",
        "df=trainingData2.transform(df)"
      ],
      "execution_count": null,
      "outputs": []
    },
    {
      "cell_type": "code",
      "metadata": {
        "colab": {
          "base_uri": "https://localhost:8080/"
        },
        "id": "AkR1jWjs3p81",
        "outputId": "4507efac-2f36-4bf1-a686-3c8740d0dddb"
      },
      "source": [
        "df.show(5)"
      ],
      "execution_count": null,
      "outputs": [
        {
          "output_type": "stream",
          "text": [
            "+------------+-----------+------------+-----------+-------+-----+\n",
            "|sepal_length|sepal_width|petal_length|petal_width|species|label|\n",
            "+------------+-----------+------------+-----------+-------+-----+\n",
            "|         5.1|        3.5|         1.4|        0.2| setosa|  0.0|\n",
            "|         4.9|        3.0|         1.4|        0.2| setosa|  0.0|\n",
            "|         4.7|        3.2|         1.3|        0.2| setosa|  0.0|\n",
            "|         4.6|        3.1|         1.5|        0.2| setosa|  0.0|\n",
            "|         5.0|        3.6|         1.4|        0.2| setosa|  0.0|\n",
            "+------------+-----------+------------+-----------+-------+-----+\n",
            "only showing top 5 rows\n",
            "\n"
          ],
          "name": "stdout"
        }
      ]
    },
    {
      "cell_type": "markdown",
      "metadata": {
        "id": "z3YCJmL6kmVT"
      },
      "source": [
        "Se elimina el texto de la variable a predecir"
      ]
    },
    {
      "cell_type": "code",
      "metadata": {
        "id": "EuI1R7zMersK"
      },
      "source": [
        "df=df.drop(\"species\")"
      ],
      "execution_count": null,
      "outputs": []
    },
    {
      "cell_type": "code",
      "metadata": {
        "colab": {
          "base_uri": "https://localhost:8080/"
        },
        "id": "dSTfFB0oew9i",
        "outputId": "7b3c2c54-02c5-4b68-ad41-7449e43414c5"
      },
      "source": [
        "df.show()"
      ],
      "execution_count": null,
      "outputs": [
        {
          "output_type": "stream",
          "text": [
            "+------------+-----------+------------+-----------+-----+\n",
            "|sepal_length|sepal_width|petal_length|petal_width|label|\n",
            "+------------+-----------+------------+-----------+-----+\n",
            "|         5.1|        3.5|         1.4|        0.2|  0.0|\n",
            "|         4.9|        3.0|         1.4|        0.2|  0.0|\n",
            "|         4.7|        3.2|         1.3|        0.2|  0.0|\n",
            "|         4.6|        3.1|         1.5|        0.2|  0.0|\n",
            "|         5.0|        3.6|         1.4|        0.2|  0.0|\n",
            "|         5.4|        3.9|         1.7|        0.4|  0.0|\n",
            "|         4.6|        3.4|         1.4|        0.3|  0.0|\n",
            "|         5.0|        3.4|         1.5|        0.2|  0.0|\n",
            "|         4.4|        2.9|         1.4|        0.2|  0.0|\n",
            "|         4.9|        3.1|         1.5|        0.1|  0.0|\n",
            "|         5.4|        3.7|         1.5|        0.2|  0.0|\n",
            "|         4.8|        3.4|         1.6|        0.2|  0.0|\n",
            "|         4.8|        3.0|         1.4|        0.1|  0.0|\n",
            "|         4.3|        3.0|         1.1|        0.1|  0.0|\n",
            "|         5.8|        4.0|         1.2|        0.2|  0.0|\n",
            "|         5.7|        4.4|         1.5|        0.4|  0.0|\n",
            "|         5.4|        3.9|         1.3|        0.4|  0.0|\n",
            "|         5.1|        3.5|         1.4|        0.3|  0.0|\n",
            "|         5.7|        3.8|         1.7|        0.3|  0.0|\n",
            "|         5.1|        3.8|         1.5|        0.3|  0.0|\n",
            "+------------+-----------+------------+-----------+-----+\n",
            "only showing top 20 rows\n",
            "\n"
          ],
          "name": "stdout"
        }
      ]
    },
    {
      "cell_type": "markdown",
      "metadata": {
        "id": "B8a6xWz_kq0m"
      },
      "source": [
        "Se crea la division de datos para trabajar"
      ]
    },
    {
      "cell_type": "code",
      "metadata": {
        "id": "5oJA_N2O3yio"
      },
      "source": [
        "(trainingData, testData) = df.randomSplit([0.7, 0.3], seed = 100)"
      ],
      "execution_count": null,
      "outputs": []
    },
    {
      "cell_type": "code",
      "metadata": {
        "colab": {
          "base_uri": "https://localhost:8080/"
        },
        "id": "LOOZUbD76dQv",
        "outputId": "1a1083da-a429-481f-da73-1fa46da6dc5d"
      },
      "source": [
        "datapruebas=testData.drop(\"label\")\r\n",
        "datapruebas=datapruebas.toPandas()\r\n",
        "datapruebas"
      ],
      "execution_count": null,
      "outputs": [
        {
          "output_type": "execute_result",
          "data": {
            "text/html": [
              "<div>\n",
              "<style scoped>\n",
              "    .dataframe tbody tr th:only-of-type {\n",
              "        vertical-align: middle;\n",
              "    }\n",
              "\n",
              "    .dataframe tbody tr th {\n",
              "        vertical-align: top;\n",
              "    }\n",
              "\n",
              "    .dataframe thead th {\n",
              "        text-align: right;\n",
              "    }\n",
              "</style>\n",
              "<table border=\"1\" class=\"dataframe\">\n",
              "  <thead>\n",
              "    <tr style=\"text-align: right;\">\n",
              "      <th></th>\n",
              "      <th>sepal_length</th>\n",
              "      <th>sepal_width</th>\n",
              "      <th>petal_length</th>\n",
              "      <th>petal_width</th>\n",
              "    </tr>\n",
              "  </thead>\n",
              "  <tbody>\n",
              "    <tr>\n",
              "      <th>0</th>\n",
              "      <td>4.4</td>\n",
              "      <td>3.2</td>\n",
              "      <td>1.3</td>\n",
              "      <td>0.2</td>\n",
              "    </tr>\n",
              "    <tr>\n",
              "      <th>1</th>\n",
              "      <td>4.7</td>\n",
              "      <td>3.2</td>\n",
              "      <td>1.6</td>\n",
              "      <td>0.2</td>\n",
              "    </tr>\n",
              "    <tr>\n",
              "      <th>2</th>\n",
              "      <td>4.8</td>\n",
              "      <td>3.0</td>\n",
              "      <td>1.4</td>\n",
              "      <td>0.1</td>\n",
              "    </tr>\n",
              "    <tr>\n",
              "      <th>3</th>\n",
              "      <td>4.8</td>\n",
              "      <td>3.4</td>\n",
              "      <td>1.6</td>\n",
              "      <td>0.2</td>\n",
              "    </tr>\n",
              "    <tr>\n",
              "      <th>4</th>\n",
              "      <td>4.8</td>\n",
              "      <td>3.4</td>\n",
              "      <td>1.9</td>\n",
              "      <td>0.2</td>\n",
              "    </tr>\n",
              "    <tr>\n",
              "      <th>5</th>\n",
              "      <td>4.9</td>\n",
              "      <td>3.1</td>\n",
              "      <td>1.5</td>\n",
              "      <td>0.1</td>\n",
              "    </tr>\n",
              "    <tr>\n",
              "      <th>6</th>\n",
              "      <td>4.9</td>\n",
              "      <td>3.1</td>\n",
              "      <td>1.5</td>\n",
              "      <td>0.1</td>\n",
              "    </tr>\n",
              "    <tr>\n",
              "      <th>7</th>\n",
              "      <td>5.0</td>\n",
              "      <td>3.2</td>\n",
              "      <td>1.2</td>\n",
              "      <td>0.2</td>\n",
              "    </tr>\n",
              "    <tr>\n",
              "      <th>8</th>\n",
              "      <td>5.0</td>\n",
              "      <td>3.5</td>\n",
              "      <td>1.3</td>\n",
              "      <td>0.3</td>\n",
              "    </tr>\n",
              "    <tr>\n",
              "      <th>9</th>\n",
              "      <td>5.1</td>\n",
              "      <td>3.4</td>\n",
              "      <td>1.5</td>\n",
              "      <td>0.2</td>\n",
              "    </tr>\n",
              "    <tr>\n",
              "      <th>10</th>\n",
              "      <td>5.1</td>\n",
              "      <td>3.5</td>\n",
              "      <td>1.4</td>\n",
              "      <td>0.2</td>\n",
              "    </tr>\n",
              "    <tr>\n",
              "      <th>11</th>\n",
              "      <td>5.1</td>\n",
              "      <td>3.7</td>\n",
              "      <td>1.5</td>\n",
              "      <td>0.4</td>\n",
              "    </tr>\n",
              "    <tr>\n",
              "      <th>12</th>\n",
              "      <td>5.1</td>\n",
              "      <td>3.8</td>\n",
              "      <td>1.5</td>\n",
              "      <td>0.3</td>\n",
              "    </tr>\n",
              "    <tr>\n",
              "      <th>13</th>\n",
              "      <td>5.1</td>\n",
              "      <td>3.8</td>\n",
              "      <td>1.9</td>\n",
              "      <td>0.4</td>\n",
              "    </tr>\n",
              "    <tr>\n",
              "      <th>14</th>\n",
              "      <td>5.2</td>\n",
              "      <td>2.7</td>\n",
              "      <td>3.9</td>\n",
              "      <td>1.4</td>\n",
              "    </tr>\n",
              "    <tr>\n",
              "      <th>15</th>\n",
              "      <td>5.4</td>\n",
              "      <td>3.4</td>\n",
              "      <td>1.7</td>\n",
              "      <td>0.2</td>\n",
              "    </tr>\n",
              "    <tr>\n",
              "      <th>16</th>\n",
              "      <td>5.5</td>\n",
              "      <td>2.3</td>\n",
              "      <td>4.0</td>\n",
              "      <td>1.3</td>\n",
              "    </tr>\n",
              "    <tr>\n",
              "      <th>17</th>\n",
              "      <td>5.5</td>\n",
              "      <td>4.2</td>\n",
              "      <td>1.4</td>\n",
              "      <td>0.2</td>\n",
              "    </tr>\n",
              "    <tr>\n",
              "      <th>18</th>\n",
              "      <td>5.6</td>\n",
              "      <td>2.5</td>\n",
              "      <td>3.9</td>\n",
              "      <td>1.1</td>\n",
              "    </tr>\n",
              "    <tr>\n",
              "      <th>19</th>\n",
              "      <td>5.6</td>\n",
              "      <td>2.9</td>\n",
              "      <td>3.6</td>\n",
              "      <td>1.3</td>\n",
              "    </tr>\n",
              "    <tr>\n",
              "      <th>20</th>\n",
              "      <td>5.7</td>\n",
              "      <td>2.5</td>\n",
              "      <td>5.0</td>\n",
              "      <td>2.0</td>\n",
              "    </tr>\n",
              "    <tr>\n",
              "      <th>21</th>\n",
              "      <td>5.7</td>\n",
              "      <td>2.6</td>\n",
              "      <td>3.5</td>\n",
              "      <td>1.0</td>\n",
              "    </tr>\n",
              "    <tr>\n",
              "      <th>22</th>\n",
              "      <td>5.7</td>\n",
              "      <td>2.9</td>\n",
              "      <td>4.2</td>\n",
              "      <td>1.3</td>\n",
              "    </tr>\n",
              "    <tr>\n",
              "      <th>23</th>\n",
              "      <td>5.7</td>\n",
              "      <td>4.4</td>\n",
              "      <td>1.5</td>\n",
              "      <td>0.4</td>\n",
              "    </tr>\n",
              "    <tr>\n",
              "      <th>24</th>\n",
              "      <td>5.8</td>\n",
              "      <td>2.8</td>\n",
              "      <td>5.1</td>\n",
              "      <td>2.4</td>\n",
              "    </tr>\n",
              "    <tr>\n",
              "      <th>25</th>\n",
              "      <td>6.0</td>\n",
              "      <td>2.7</td>\n",
              "      <td>5.1</td>\n",
              "      <td>1.6</td>\n",
              "    </tr>\n",
              "    <tr>\n",
              "      <th>26</th>\n",
              "      <td>6.0</td>\n",
              "      <td>3.4</td>\n",
              "      <td>4.5</td>\n",
              "      <td>1.6</td>\n",
              "    </tr>\n",
              "    <tr>\n",
              "      <th>27</th>\n",
              "      <td>6.2</td>\n",
              "      <td>2.9</td>\n",
              "      <td>4.3</td>\n",
              "      <td>1.3</td>\n",
              "    </tr>\n",
              "    <tr>\n",
              "      <th>28</th>\n",
              "      <td>6.3</td>\n",
              "      <td>2.3</td>\n",
              "      <td>4.4</td>\n",
              "      <td>1.3</td>\n",
              "    </tr>\n",
              "    <tr>\n",
              "      <th>29</th>\n",
              "      <td>6.3</td>\n",
              "      <td>2.8</td>\n",
              "      <td>5.1</td>\n",
              "      <td>1.5</td>\n",
              "    </tr>\n",
              "    <tr>\n",
              "      <th>30</th>\n",
              "      <td>6.4</td>\n",
              "      <td>2.7</td>\n",
              "      <td>5.3</td>\n",
              "      <td>1.9</td>\n",
              "    </tr>\n",
              "    <tr>\n",
              "      <th>31</th>\n",
              "      <td>6.4</td>\n",
              "      <td>2.8</td>\n",
              "      <td>5.6</td>\n",
              "      <td>2.2</td>\n",
              "    </tr>\n",
              "    <tr>\n",
              "      <th>32</th>\n",
              "      <td>6.4</td>\n",
              "      <td>3.2</td>\n",
              "      <td>5.3</td>\n",
              "      <td>2.3</td>\n",
              "    </tr>\n",
              "    <tr>\n",
              "      <th>33</th>\n",
              "      <td>6.6</td>\n",
              "      <td>2.9</td>\n",
              "      <td>4.6</td>\n",
              "      <td>1.3</td>\n",
              "    </tr>\n",
              "    <tr>\n",
              "      <th>34</th>\n",
              "      <td>6.7</td>\n",
              "      <td>2.5</td>\n",
              "      <td>5.8</td>\n",
              "      <td>1.8</td>\n",
              "    </tr>\n",
              "    <tr>\n",
              "      <th>35</th>\n",
              "      <td>6.7</td>\n",
              "      <td>3.0</td>\n",
              "      <td>5.2</td>\n",
              "      <td>2.3</td>\n",
              "    </tr>\n",
              "    <tr>\n",
              "      <th>36</th>\n",
              "      <td>6.7</td>\n",
              "      <td>3.3</td>\n",
              "      <td>5.7</td>\n",
              "      <td>2.1</td>\n",
              "    </tr>\n",
              "    <tr>\n",
              "      <th>37</th>\n",
              "      <td>6.8</td>\n",
              "      <td>3.0</td>\n",
              "      <td>5.5</td>\n",
              "      <td>2.1</td>\n",
              "    </tr>\n",
              "    <tr>\n",
              "      <th>38</th>\n",
              "      <td>6.8</td>\n",
              "      <td>3.2</td>\n",
              "      <td>5.9</td>\n",
              "      <td>2.3</td>\n",
              "    </tr>\n",
              "    <tr>\n",
              "      <th>39</th>\n",
              "      <td>6.9</td>\n",
              "      <td>3.1</td>\n",
              "      <td>4.9</td>\n",
              "      <td>1.5</td>\n",
              "    </tr>\n",
              "    <tr>\n",
              "      <th>40</th>\n",
              "      <td>6.9</td>\n",
              "      <td>3.1</td>\n",
              "      <td>5.4</td>\n",
              "      <td>2.1</td>\n",
              "    </tr>\n",
              "    <tr>\n",
              "      <th>41</th>\n",
              "      <td>7.0</td>\n",
              "      <td>3.2</td>\n",
              "      <td>4.7</td>\n",
              "      <td>1.4</td>\n",
              "    </tr>\n",
              "    <tr>\n",
              "      <th>42</th>\n",
              "      <td>7.4</td>\n",
              "      <td>2.8</td>\n",
              "      <td>6.1</td>\n",
              "      <td>1.9</td>\n",
              "    </tr>\n",
              "    <tr>\n",
              "      <th>43</th>\n",
              "      <td>7.7</td>\n",
              "      <td>2.8</td>\n",
              "      <td>6.7</td>\n",
              "      <td>2.0</td>\n",
              "    </tr>\n",
              "    <tr>\n",
              "      <th>44</th>\n",
              "      <td>7.7</td>\n",
              "      <td>3.0</td>\n",
              "      <td>6.1</td>\n",
              "      <td>2.3</td>\n",
              "    </tr>\n",
              "    <tr>\n",
              "      <th>45</th>\n",
              "      <td>7.7</td>\n",
              "      <td>3.8</td>\n",
              "      <td>6.7</td>\n",
              "      <td>2.2</td>\n",
              "    </tr>\n",
              "  </tbody>\n",
              "</table>\n",
              "</div>"
            ],
            "text/plain": [
              "    sepal_length  sepal_width  petal_length  petal_width\n",
              "0            4.4          3.2           1.3          0.2\n",
              "1            4.7          3.2           1.6          0.2\n",
              "2            4.8          3.0           1.4          0.1\n",
              "3            4.8          3.4           1.6          0.2\n",
              "4            4.8          3.4           1.9          0.2\n",
              "5            4.9          3.1           1.5          0.1\n",
              "6            4.9          3.1           1.5          0.1\n",
              "7            5.0          3.2           1.2          0.2\n",
              "8            5.0          3.5           1.3          0.3\n",
              "9            5.1          3.4           1.5          0.2\n",
              "10           5.1          3.5           1.4          0.2\n",
              "11           5.1          3.7           1.5          0.4\n",
              "12           5.1          3.8           1.5          0.3\n",
              "13           5.1          3.8           1.9          0.4\n",
              "14           5.2          2.7           3.9          1.4\n",
              "15           5.4          3.4           1.7          0.2\n",
              "16           5.5          2.3           4.0          1.3\n",
              "17           5.5          4.2           1.4          0.2\n",
              "18           5.6          2.5           3.9          1.1\n",
              "19           5.6          2.9           3.6          1.3\n",
              "20           5.7          2.5           5.0          2.0\n",
              "21           5.7          2.6           3.5          1.0\n",
              "22           5.7          2.9           4.2          1.3\n",
              "23           5.7          4.4           1.5          0.4\n",
              "24           5.8          2.8           5.1          2.4\n",
              "25           6.0          2.7           5.1          1.6\n",
              "26           6.0          3.4           4.5          1.6\n",
              "27           6.2          2.9           4.3          1.3\n",
              "28           6.3          2.3           4.4          1.3\n",
              "29           6.3          2.8           5.1          1.5\n",
              "30           6.4          2.7           5.3          1.9\n",
              "31           6.4          2.8           5.6          2.2\n",
              "32           6.4          3.2           5.3          2.3\n",
              "33           6.6          2.9           4.6          1.3\n",
              "34           6.7          2.5           5.8          1.8\n",
              "35           6.7          3.0           5.2          2.3\n",
              "36           6.7          3.3           5.7          2.1\n",
              "37           6.8          3.0           5.5          2.1\n",
              "38           6.8          3.2           5.9          2.3\n",
              "39           6.9          3.1           4.9          1.5\n",
              "40           6.9          3.1           5.4          2.1\n",
              "41           7.0          3.2           4.7          1.4\n",
              "42           7.4          2.8           6.1          1.9\n",
              "43           7.7          2.8           6.7          2.0\n",
              "44           7.7          3.0           6.1          2.3\n",
              "45           7.7          3.8           6.7          2.2"
            ]
          },
          "metadata": {
            "tags": []
          },
          "execution_count": 11
        }
      ]
    },
    {
      "cell_type": "markdown",
      "metadata": {
        "id": "D46qfLfIkv2R"
      },
      "source": [
        "Se crea el vectorAssembler para unir las variables con atributos"
      ]
    },
    {
      "cell_type": "code",
      "metadata": {
        "id": "ITMwXdvN39y5"
      },
      "source": [
        "vecAssembler = VectorAssembler(inputCols=[\"sepal_length\", \"sepal_width\", \"petal_length\", \"petal_width\"], outputCol=\"features\")"
      ],
      "execution_count": null,
      "outputs": []
    },
    {
      "cell_type": "markdown",
      "metadata": {
        "id": "pK2niPURoNxf"
      },
      "source": [
        "## NaiveBayes"
      ]
    },
    {
      "cell_type": "code",
      "metadata": {
        "id": "sw95i4FN4FTg",
        "colab": {
          "base_uri": "https://localhost:8080/"
        },
        "outputId": "7589a061-d6ca-4b96-8889-822cd6646eea"
      },
      "source": [
        "#Se asignan valores al modelo\r\n",
        "nb = NaiveBayes(featuresCol = 'features', labelCol = 'label',smoothing=1.0, modelType=\"multinomial\")\r\n",
        "#Se unen en la pipeline\r\n",
        "pipeline = Pipeline(stages=[vecAssembler, nb])\r\n",
        "#Se entrena el modelo\r\n",
        "modelNB = pipeline.fit(trainingData)\r\n",
        "#Se realiza la prediccion con los datos de test\r\n",
        "predictions = modelNB.transform(testData)\r\n",
        "#Se muestran los resultados\r\n",
        "predictions.select(\"label\", \"prediction\").show()"
      ],
      "execution_count": null,
      "outputs": [
        {
          "output_type": "stream",
          "text": [
            "+-----+----------+\n",
            "|label|prediction|\n",
            "+-----+----------+\n",
            "|  0.0|       0.0|\n",
            "|  0.0|       0.0|\n",
            "|  0.0|       0.0|\n",
            "|  0.0|       0.0|\n",
            "|  0.0|       0.0|\n",
            "|  0.0|       0.0|\n",
            "|  0.0|       0.0|\n",
            "|  0.0|       0.0|\n",
            "|  0.0|       0.0|\n",
            "|  0.0|       0.0|\n",
            "|  0.0|       0.0|\n",
            "|  0.0|       0.0|\n",
            "|  0.0|       0.0|\n",
            "|  0.0|       0.0|\n",
            "|  1.0|       1.0|\n",
            "|  0.0|       0.0|\n",
            "|  1.0|       1.0|\n",
            "|  0.0|       0.0|\n",
            "|  1.0|       1.0|\n",
            "|  1.0|       1.0|\n",
            "+-----+----------+\n",
            "only showing top 20 rows\n",
            "\n"
          ],
          "name": "stdout"
        }
      ]
    },
    {
      "cell_type": "code",
      "metadata": {
        "colab": {
          "base_uri": "https://localhost:8080/"
        },
        "id": "8HHBocY0p4JI",
        "outputId": "94e6f671-e284-4797-9815-73c98d6c9715"
      },
      "source": [
        "#Se verifica el porcentaje de efectividad\r\n",
        "evaluator = MulticlassClassificationEvaluator(predictionCol=\"prediction\")\r\n",
        "evaluator.evaluate(predictions)"
      ],
      "execution_count": null,
      "outputs": [
        {
          "output_type": "execute_result",
          "data": {
            "text/plain": [
              "0.9126293995859213"
            ]
          },
          "metadata": {
            "tags": []
          },
          "execution_count": 14
        }
      ]
    },
    {
      "cell_type": "markdown",
      "metadata": {
        "id": "qddUTMWeofDw"
      },
      "source": [
        "## LogisticRegression"
      ]
    },
    {
      "cell_type": "code",
      "metadata": {
        "colab": {
          "base_uri": "https://localhost:8080/"
        },
        "id": "yugr5fgYkGHx",
        "outputId": "f344e2bd-abbd-46f1-f3c1-b82a08b464af"
      },
      "source": [
        "#Se asignan valores al modelo\r\n",
        "lr = LogisticRegression(featuresCol = 'features', labelCol = 'label',maxIter=10, regParam=0.3, elasticNetParam=0)\r\n",
        "#Se unen en la pipeline\r\n",
        "pipeline = Pipeline(stages=[vecAssembler, lr])\r\n",
        "#Se entrena el modelo\r\n",
        "modelLR = pipeline.fit(trainingData)\r\n",
        "#Se realiza la prediccion con los datos de test\r\n",
        "predictions = modelLR.transform(testData)\r\n",
        "#Se muestran los resultados\r\n",
        "predictions.select(\"label\", \"prediction\").show()"
      ],
      "execution_count": null,
      "outputs": [
        {
          "output_type": "stream",
          "text": [
            "+-----+----------+\n",
            "|label|prediction|\n",
            "+-----+----------+\n",
            "|  0.0|       0.0|\n",
            "|  0.0|       0.0|\n",
            "|  0.0|       0.0|\n",
            "|  0.0|       0.0|\n",
            "|  0.0|       0.0|\n",
            "|  0.0|       0.0|\n",
            "|  0.0|       0.0|\n",
            "|  0.0|       0.0|\n",
            "|  0.0|       0.0|\n",
            "|  0.0|       0.0|\n",
            "|  0.0|       0.0|\n",
            "|  0.0|       0.0|\n",
            "|  0.0|       0.0|\n",
            "|  0.0|       0.0|\n",
            "|  1.0|       2.0|\n",
            "|  0.0|       0.0|\n",
            "|  1.0|       1.0|\n",
            "|  0.0|       0.0|\n",
            "|  1.0|       1.0|\n",
            "|  1.0|       1.0|\n",
            "+-----+----------+\n",
            "only showing top 20 rows\n",
            "\n"
          ],
          "name": "stdout"
        }
      ]
    },
    {
      "cell_type": "code",
      "metadata": {
        "colab": {
          "base_uri": "https://localhost:8080/"
        },
        "id": "k-tQuHtW4fvv",
        "outputId": "3678a515-ac6d-430a-ed6b-5767d98e72eb"
      },
      "source": [
        "#Se verifica el porcentaje de efectividad\r\n",
        "evaluator = MulticlassClassificationEvaluator(predictionCol=\"prediction\")\r\n",
        "evaluator.evaluate(predictions)"
      ],
      "execution_count": null,
      "outputs": [
        {
          "output_type": "execute_result",
          "data": {
            "text/plain": [
              "0.9333243316230083"
            ]
          },
          "metadata": {
            "tags": []
          },
          "execution_count": 16
        }
      ]
    },
    {
      "cell_type": "markdown",
      "metadata": {
        "id": "BmLo_QEHBGfs"
      },
      "source": [
        "## Decision Tree Classifier"
      ]
    },
    {
      "cell_type": "code",
      "metadata": {
        "colab": {
          "base_uri": "https://localhost:8080/"
        },
        "id": "7bhJXpIEBL5H",
        "outputId": "59d8b780-d986-4e6e-9259-90803e7109c3"
      },
      "source": [
        "#Se asignan valores al modelo\r\n",
        "dtc = DecisionTreeClassifier(labelCol=\"label\", featuresCol=\"features\")\r\n",
        "#Se unen en la pipeline\r\n",
        "pipeline = Pipeline(stages=[vecAssembler, dtc])\r\n",
        "#Se entrena el modelo\r\n",
        "modelDTC = pipeline.fit(trainingData)\r\n",
        "#Se realiza la prediccion con los datos de test\r\n",
        "predictions = modelDTC.transform(testData)\r\n",
        "#Se muestran los resultados\r\n",
        "predictions.select(\"label\", \"prediction\").show()"
      ],
      "execution_count": null,
      "outputs": [
        {
          "output_type": "stream",
          "text": [
            "+-----+----------+\n",
            "|label|prediction|\n",
            "+-----+----------+\n",
            "|  0.0|       0.0|\n",
            "|  0.0|       0.0|\n",
            "|  0.0|       0.0|\n",
            "|  0.0|       0.0|\n",
            "|  0.0|       0.0|\n",
            "|  0.0|       0.0|\n",
            "|  0.0|       0.0|\n",
            "|  0.0|       0.0|\n",
            "|  0.0|       0.0|\n",
            "|  0.0|       0.0|\n",
            "|  0.0|       0.0|\n",
            "|  0.0|       0.0|\n",
            "|  0.0|       0.0|\n",
            "|  0.0|       0.0|\n",
            "|  1.0|       1.0|\n",
            "|  0.0|       0.0|\n",
            "|  1.0|       1.0|\n",
            "|  0.0|       0.0|\n",
            "|  1.0|       1.0|\n",
            "|  1.0|       1.0|\n",
            "+-----+----------+\n",
            "only showing top 20 rows\n",
            "\n"
          ],
          "name": "stdout"
        }
      ]
    },
    {
      "cell_type": "code",
      "metadata": {
        "colab": {
          "base_uri": "https://localhost:8080/"
        },
        "id": "IyPQHQjJB7At",
        "outputId": "ce92f25c-0aa3-4bc9-92d2-4413a4b567da"
      },
      "source": [
        "#Se verifica el porcentaje de efectividad\r\n",
        "evaluator = MulticlassClassificationEvaluator(predictionCol=\"prediction\")\r\n",
        "evaluator.evaluate(predictions)"
      ],
      "execution_count": null,
      "outputs": [
        {
          "output_type": "execute_result",
          "data": {
            "text/plain": [
              "0.9344664031620552"
            ]
          },
          "metadata": {
            "tags": []
          },
          "execution_count": 18
        }
      ]
    },
    {
      "cell_type": "markdown",
      "metadata": {
        "id": "6557jQW0CHaf"
      },
      "source": [
        "## Decision Tree Classifier a ONNX"
      ]
    },
    {
      "cell_type": "code",
      "metadata": {
        "colab": {
          "base_uri": "https://localhost:8080/"
        },
        "id": "t8AT4fXmCVwj",
        "outputId": "247c1827-44b3-44bb-ce32-d69c79f49e4c"
      },
      "source": [
        "sample_input = testData.drop(\"species\",\"label\")\r\n",
        "initial_types = buildInitialTypesSimple(sample_input) \r\n",
        "onnx_model = convert_sparkml(modelDTC, 'My Sparkml Pipeline', initial_types, spark_session = spark)"
      ],
      "execution_count": null,
      "outputs": [
        {
          "output_type": "stream",
          "text": [
            "The maximum opset needed by this model is only 4.\n"
          ],
          "name": "stderr"
        }
      ]
    },
    {
      "cell_type": "code",
      "metadata": {
        "id": "664azKXWCXdE"
      },
      "source": [
        "with open(\"/content/DTC.onnx\", \"wb\") as f:\r\n",
        "  f.write(onnx_model.SerializeToString())"
      ],
      "execution_count": null,
      "outputs": []
    },
    {
      "cell_type": "code",
      "metadata": {
        "colab": {
          "base_uri": "https://localhost:8080/"
        },
        "id": "xPIEU3CMCZSV",
        "outputId": "d578ac43-2dca-4597-dd64-12c7efbabcde"
      },
      "source": [
        "session = onnxruntime.InferenceSession(\"/content/DTC.onnx\", None)\r\n",
        "output = session.get_outputs()[0]\r\n",
        "inputs = session.get_inputs()\r\n",
        "x1=0\r\n",
        "x2=4\r\n",
        "for i in range(45):\r\n",
        "  x1+=4\r\n",
        "  x2+=4\r\n",
        "  # print(x1,x2)\r\n",
        "  results = session.run([output.name], {i.name: v for i, v in zip(inputs,datapruebas.values.reshape(184,1,1).astype(np.float32)[x1:x2] )})\r\n",
        "  print(results[0][0])"
      ],
      "execution_count": null,
      "outputs": [
        {
          "output_type": "stream",
          "text": [
            "0\n",
            "0\n",
            "0\n",
            "0\n",
            "0\n",
            "0\n",
            "0\n",
            "0\n",
            "0\n",
            "0\n",
            "0\n",
            "0\n",
            "0\n",
            "1\n",
            "0\n",
            "1\n",
            "0\n",
            "1\n",
            "1\n",
            "2\n",
            "1\n",
            "1\n",
            "0\n",
            "2\n",
            "2\n",
            "1\n",
            "1\n",
            "1\n",
            "1\n",
            "2\n",
            "2\n",
            "2\n",
            "1\n",
            "2\n",
            "2\n",
            "2\n",
            "2\n",
            "2\n",
            "2\n",
            "2\n",
            "1\n",
            "2\n",
            "2\n",
            "2\n",
            "2\n"
          ],
          "name": "stdout"
        }
      ]
    },
    {
      "cell_type": "markdown",
      "metadata": {
        "id": "aKXn_fG53iW9"
      },
      "source": [
        "## NaiveBayes a ONNX"
      ]
    },
    {
      "cell_type": "code",
      "metadata": {
        "colab": {
          "base_uri": "https://localhost:8080/"
        },
        "id": "YyKi-tGC5NRS",
        "outputId": "56016c9a-8b7b-4f8a-e55e-2706ec583ec1"
      },
      "source": [
        "sample_input = testData.drop(\"species\",\"label\")\r\n",
        "initial_types = buildInitialTypesSimple(sample_input) \r\n",
        "onnx_model = convert_sparkml(modelNB, 'My Sparkml Pipeline', initial_types, spark_session = spark)"
      ],
      "execution_count": null,
      "outputs": [
        {
          "output_type": "stream",
          "text": [
            "The maximum opset needed by this model is only 9.\n",
            "The maximum opset needed by this model is only 4.\n"
          ],
          "name": "stderr"
        }
      ]
    },
    {
      "cell_type": "code",
      "metadata": {
        "id": "magea62-5W0u"
      },
      "source": [
        "with open(\"/content/NB.onnx\", \"wb\") as f:\r\n",
        "  f.write(onnx_model.SerializeToString())"
      ],
      "execution_count": null,
      "outputs": []
    },
    {
      "cell_type": "code",
      "metadata": {
        "id": "-DYYXnaz4cZI",
        "colab": {
          "base_uri": "https://localhost:8080/"
        },
        "outputId": "c770da8c-1535-4556-9231-4958696ed98a"
      },
      "source": [
        "session = onnxruntime.InferenceSession(\"/content/NB.onnx\", None)\r\n",
        "output = session.get_outputs()[0]\r\n",
        "inputs = session.get_inputs()\r\n",
        "x1=0\r\n",
        "x2=4\r\n",
        "for i in range(45):\r\n",
        "  x1+=4\r\n",
        "  x2+=4\r\n",
        "  # print(x1,x2)\r\n",
        "  results = session.run([output.name], {i.name: v for i, v in zip(inputs,datapruebas.values.reshape(184,1,1).astype(np.float32)[x1:x2] )})\r\n",
        "  print(results[0][0])"
      ],
      "execution_count": null,
      "outputs": [
        {
          "output_type": "error",
          "ename": "InvalidGraph",
          "evalue": "ignored",
          "traceback": [
            "\u001b[0;31m---------------------------------------------------------------------------\u001b[0m",
            "\u001b[0;31mInvalidGraph\u001b[0m                              Traceback (most recent call last)",
            "\u001b[0;32m<ipython-input-27-829027d609fe>\u001b[0m in \u001b[0;36m<module>\u001b[0;34m()\u001b[0m\n\u001b[0;32m----> 1\u001b[0;31m \u001b[0msession\u001b[0m \u001b[0;34m=\u001b[0m \u001b[0monnxruntime\u001b[0m\u001b[0;34m.\u001b[0m\u001b[0mInferenceSession\u001b[0m\u001b[0;34m(\u001b[0m\u001b[0;34m\"/content/NB.onnx\"\u001b[0m\u001b[0;34m,\u001b[0m \u001b[0;32mNone\u001b[0m\u001b[0;34m)\u001b[0m\u001b[0;34m\u001b[0m\u001b[0;34m\u001b[0m\u001b[0m\n\u001b[0m\u001b[1;32m      2\u001b[0m \u001b[0moutput\u001b[0m \u001b[0;34m=\u001b[0m \u001b[0msession\u001b[0m\u001b[0;34m.\u001b[0m\u001b[0mget_outputs\u001b[0m\u001b[0;34m(\u001b[0m\u001b[0;34m)\u001b[0m\u001b[0;34m[\u001b[0m\u001b[0;36m0\u001b[0m\u001b[0;34m]\u001b[0m\u001b[0;34m\u001b[0m\u001b[0;34m\u001b[0m\u001b[0m\n\u001b[1;32m      3\u001b[0m \u001b[0minputs\u001b[0m \u001b[0;34m=\u001b[0m \u001b[0msession\u001b[0m\u001b[0;34m.\u001b[0m\u001b[0mget_inputs\u001b[0m\u001b[0;34m(\u001b[0m\u001b[0;34m)\u001b[0m\u001b[0;34m\u001b[0m\u001b[0;34m\u001b[0m\u001b[0m\n\u001b[1;32m      4\u001b[0m \u001b[0mx1\u001b[0m\u001b[0;34m=\u001b[0m\u001b[0;36m0\u001b[0m\u001b[0;34m\u001b[0m\u001b[0;34m\u001b[0m\u001b[0m\n\u001b[1;32m      5\u001b[0m \u001b[0mx2\u001b[0m\u001b[0;34m=\u001b[0m\u001b[0;36m4\u001b[0m\u001b[0;34m\u001b[0m\u001b[0;34m\u001b[0m\u001b[0m\n",
            "\u001b[0;32m/usr/local/lib/python3.7/dist-packages/onnxruntime/capi/onnxruntime_inference_collection.py\u001b[0m in \u001b[0;36m__init__\u001b[0;34m(self, path_or_bytes, sess_options, providers, provider_options)\u001b[0m\n\u001b[1;32m    278\u001b[0m \u001b[0;34m\u001b[0m\u001b[0m\n\u001b[1;32m    279\u001b[0m         \u001b[0;32mtry\u001b[0m\u001b[0;34m:\u001b[0m\u001b[0;34m\u001b[0m\u001b[0;34m\u001b[0m\u001b[0m\n\u001b[0;32m--> 280\u001b[0;31m             \u001b[0mself\u001b[0m\u001b[0;34m.\u001b[0m\u001b[0m_create_inference_session\u001b[0m\u001b[0;34m(\u001b[0m\u001b[0mproviders\u001b[0m\u001b[0;34m,\u001b[0m \u001b[0mprovider_options\u001b[0m\u001b[0;34m)\u001b[0m\u001b[0;34m\u001b[0m\u001b[0;34m\u001b[0m\u001b[0m\n\u001b[0m\u001b[1;32m    281\u001b[0m         \u001b[0;32mexcept\u001b[0m \u001b[0mRuntimeError\u001b[0m\u001b[0;34m:\u001b[0m\u001b[0;34m\u001b[0m\u001b[0;34m\u001b[0m\u001b[0m\n\u001b[1;32m    282\u001b[0m             \u001b[0;32mif\u001b[0m \u001b[0mself\u001b[0m\u001b[0;34m.\u001b[0m\u001b[0m_enable_fallback\u001b[0m\u001b[0;34m:\u001b[0m\u001b[0;34m\u001b[0m\u001b[0;34m\u001b[0m\u001b[0m\n",
            "\u001b[0;32m/usr/local/lib/python3.7/dist-packages/onnxruntime/capi/onnxruntime_inference_collection.py\u001b[0m in \u001b[0;36m_create_inference_session\u001b[0;34m(self, providers, provider_options)\u001b[0m\n\u001b[1;32m    305\u001b[0m         \u001b[0msession_options\u001b[0m \u001b[0;34m=\u001b[0m \u001b[0mself\u001b[0m\u001b[0;34m.\u001b[0m\u001b[0m_sess_options\u001b[0m \u001b[0;32mif\u001b[0m \u001b[0mself\u001b[0m\u001b[0;34m.\u001b[0m\u001b[0m_sess_options\u001b[0m \u001b[0;32melse\u001b[0m \u001b[0mC\u001b[0m\u001b[0;34m.\u001b[0m\u001b[0mget_default_session_options\u001b[0m\u001b[0;34m(\u001b[0m\u001b[0;34m)\u001b[0m\u001b[0;34m\u001b[0m\u001b[0;34m\u001b[0m\u001b[0m\n\u001b[1;32m    306\u001b[0m         \u001b[0;32mif\u001b[0m \u001b[0mself\u001b[0m\u001b[0;34m.\u001b[0m\u001b[0m_model_path\u001b[0m\u001b[0;34m:\u001b[0m\u001b[0;34m\u001b[0m\u001b[0;34m\u001b[0m\u001b[0m\n\u001b[0;32m--> 307\u001b[0;31m             \u001b[0msess\u001b[0m \u001b[0;34m=\u001b[0m \u001b[0mC\u001b[0m\u001b[0;34m.\u001b[0m\u001b[0mInferenceSession\u001b[0m\u001b[0;34m(\u001b[0m\u001b[0msession_options\u001b[0m\u001b[0;34m,\u001b[0m \u001b[0mself\u001b[0m\u001b[0;34m.\u001b[0m\u001b[0m_model_path\u001b[0m\u001b[0;34m,\u001b[0m \u001b[0;32mTrue\u001b[0m\u001b[0;34m,\u001b[0m \u001b[0mself\u001b[0m\u001b[0;34m.\u001b[0m\u001b[0m_read_config_from_model\u001b[0m\u001b[0;34m)\u001b[0m\u001b[0;34m\u001b[0m\u001b[0;34m\u001b[0m\u001b[0m\n\u001b[0m\u001b[1;32m    308\u001b[0m         \u001b[0;32melse\u001b[0m\u001b[0;34m:\u001b[0m\u001b[0;34m\u001b[0m\u001b[0;34m\u001b[0m\u001b[0m\n\u001b[1;32m    309\u001b[0m             \u001b[0msess\u001b[0m \u001b[0;34m=\u001b[0m \u001b[0mC\u001b[0m\u001b[0;34m.\u001b[0m\u001b[0mInferenceSession\u001b[0m\u001b[0;34m(\u001b[0m\u001b[0msession_options\u001b[0m\u001b[0;34m,\u001b[0m \u001b[0mself\u001b[0m\u001b[0;34m.\u001b[0m\u001b[0m_model_bytes\u001b[0m\u001b[0;34m,\u001b[0m \u001b[0;32mFalse\u001b[0m\u001b[0;34m,\u001b[0m \u001b[0mself\u001b[0m\u001b[0;34m.\u001b[0m\u001b[0m_read_config_from_model\u001b[0m\u001b[0;34m)\u001b[0m\u001b[0;34m\u001b[0m\u001b[0;34m\u001b[0m\u001b[0m\n",
            "\u001b[0;31mInvalidGraph\u001b[0m: [ONNXRuntimeError] : 10 : INVALID_GRAPH : Load model from /content/NB.onnx failed:This is an invalid model. Error in Node:Cast : Mismatched attribute type in 'Cast : to'"
          ]
        }
      ]
    },
    {
      "cell_type": "markdown",
      "metadata": {
        "id": "dnYgT9VK-Gsj"
      },
      "source": [
        "## RegresionLogistica a ONNX"
      ]
    },
    {
      "cell_type": "code",
      "metadata": {
        "id": "wR6vupx6-NYV",
        "colab": {
          "base_uri": "https://localhost:8080/"
        },
        "outputId": "c1958c8d-9443-41ec-a689-17b6ce47eac3"
      },
      "source": [
        "sample_input = testData.drop(\"species\",\"label\")\r\n",
        "initial_types = buildInitialTypesSimple(sample_input) \r\n",
        "onnx_model = convert_sparkml(modelLR, 'My Sparkml Pipeline', initial_types, spark_session = spark)"
      ],
      "execution_count": null,
      "outputs": [
        {
          "output_type": "stream",
          "text": [
            "The maximum opset needed by this model is only 4.\n"
          ],
          "name": "stderr"
        },
        {
          "output_type": "stream",
          "text": [
            "{'classlabels_ints': [0, 1, 2],\n",
            " 'coefficients': [-0.2584586831740849,\n",
            "                  0.9104817675498127,\n",
            "                  -0.2394833636441817,\n",
            "                  -0.5368312048218311,\n",
            "                  0.2163059194512747,\n",
            "                  -0.40680933186708396,\n",
            "                  0.050113589435907734,\n",
            "                  -0.048910095720332045,\n",
            "                  0.04215276372280986,\n",
            "                  -0.5036724356827297,\n",
            "                  0.18936977420827372,\n",
            "                  0.5857413005421629],\n",
            " 'intercepts': [-0.0098275151331854, 0.1230454302571317, -0.11321791512394629],\n",
            " 'multi_class': 1,\n",
            " 'name': 'LinearClassifier',\n",
            " 'post_transform': 'LOGISTIC'}\n"
          ],
          "name": "stdout"
        }
      ]
    },
    {
      "cell_type": "code",
      "metadata": {
        "id": "w8kUsnY8-SLM"
      },
      "source": [
        "with open(\"/content/LR.onnx\", \"wb\") as f:\r\n",
        "  f.write(onnx_model.SerializeToString())"
      ],
      "execution_count": null,
      "outputs": []
    },
    {
      "cell_type": "code",
      "metadata": {
        "id": "L7GjFOPL-V9z",
        "colab": {
          "base_uri": "https://localhost:8080/"
        },
        "outputId": "18bc373e-c01e-404c-d081-d0f213e61f44"
      },
      "source": [
        "session = onnxruntime.InferenceSession(\"/content/LR.onnx\", None)\r\n",
        "output = session.get_outputs()[0]\r\n",
        "inputs = session.get_inputs()\r\n",
        "x1=0\r\n",
        "x2=4\r\n",
        "for i in range(45):\r\n",
        "  x1+=4\r\n",
        "  x2+=4\r\n",
        "  # print(x1,x2)\r\n",
        "  results = session.run([output.name], {i.name: v for i, v in zip(inputs,datapruebas.values.reshape(184,1,1).astype(np.float32)[x1:x2] )})\r\n",
        "  print(results[0][0])"
      ],
      "execution_count": null,
      "outputs": [
        {
          "output_type": "stream",
          "text": [
            "0\n",
            "0\n",
            "0\n",
            "0\n",
            "0\n",
            "0\n",
            "0\n",
            "0\n",
            "0\n",
            "0\n",
            "0\n",
            "0\n",
            "0\n",
            "2\n",
            "0\n",
            "1\n",
            "0\n",
            "1\n",
            "1\n",
            "2\n",
            "1\n",
            "1\n",
            "0\n",
            "2\n",
            "2\n",
            "2\n",
            "1\n",
            "1\n",
            "2\n",
            "2\n",
            "2\n",
            "2\n",
            "1\n",
            "2\n",
            "2\n",
            "2\n",
            "2\n",
            "2\n",
            "1\n",
            "2\n",
            "1\n",
            "2\n",
            "2\n",
            "2\n",
            "2\n"
          ],
          "name": "stdout"
        }
      ]
    }
  ]
}